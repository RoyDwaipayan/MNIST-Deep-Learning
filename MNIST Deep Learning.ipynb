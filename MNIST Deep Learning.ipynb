{
 "cells": [
  {
   "cell_type": "code",
   "execution_count": 1,
   "id": "d4a59b38",
   "metadata": {},
   "outputs": [],
   "source": [
    "import numpy as np\n",
    "import tensorflow as tf"
   ]
  },
  {
   "cell_type": "code",
   "execution_count": 6,
   "id": "8d4a73db",
   "metadata": {},
   "outputs": [],
   "source": [
    "import tensorflow_datasets as tfds"
   ]
  },
  {
   "cell_type": "code",
   "execution_count": 7,
   "id": "23016f33",
   "metadata": {},
   "outputs": [],
   "source": [
    "mnist_dataset, mnist_info = tfds.load(name='mnist',with_info = True, as_supervised = True)"
   ]
  },
  {
   "cell_type": "code",
   "execution_count": 47,
   "id": "f708e562",
   "metadata": {},
   "outputs": [],
   "source": [
    "mnist_train, mnist_test = mnist_dataset['train'], mnist_dataset['test']\n",
    "\n",
    "num_validation_samples = 0.1 * mnist_info.splits['train'].num_examples\n",
    "num_validation_samples = tf.cast(num_validation_samples, tf.int64)\n",
    "\n",
    "num_test_samples = mnist_info.splits['test'].num_examples\n",
    "num_test_samples = tf.cast(num_test_samples, tf.int64)\n",
    "\n",
    "def scale(image, label):\n",
    "    image = tf.cast(image, tf.float32)\n",
    "    image /= 255.\n",
    "    return image, label\n",
    "\n",
    "scaled_train_and_validation_data = mnist_train.map(scale)\n",
    "\n",
    "test_data = mnist_test.map(scale)\n",
    "\n",
    "BUFFER_SIZE = 10000\n",
    "shuffled_train_and_validation_data = scaled_train_and_validation_data.shuffle(BUFFER_SIZE)\n",
    "\n",
    "validation_data = shuffled_train_and_validation_data.take(num_validation_samples)\n",
    "train_data = shuffled_train_and_validation_data.skip(num_validation_samples)\n",
    "\n",
    "BATCH_SIZE = 100\n",
    "train_data = train_data.batch(BATCH_SIZE)\n",
    "validation_data = validation_data.batch(num_validation_samples)\n",
    "test_data = test_data.batch(num_test_samples)\n",
    "\n",
    "#As the MNIST dataset is a 2 tuple iterable, we extract the 2 tuples(train and target) in the 2 variables below. \n",
    "#Iter makes the validation_data iterable\n",
    "#and next tells the system to go to the next iteration value for allocate the values to the 2 variables below\n",
    "validation_train, validation_target = next(iter(validation_data))"
   ]
  },
  {
   "cell_type": "markdown",
   "id": "46a9f8ed",
   "metadata": {},
   "source": [
    "MODEL"
   ]
  },
  {
   "cell_type": "markdown",
   "id": "210b815f",
   "metadata": {},
   "source": [
    "Outline the Model"
   ]
  },
  {
   "cell_type": "code",
   "execution_count": 48,
   "id": "17bfba86",
   "metadata": {},
   "outputs": [],
   "source": [
    "input_size = 748\n",
    "output_size = 10\n",
    "hidden_layer_size = 175\n",
    "#Lets take all hidden layers of the same size here\n",
    "\n",
    "model = tf.keras.Sequential([\n",
    "    #we need to flatten the input from a tensor(a picture) to a vector\n",
    "                            tf.keras.layers.Flatten(input_shape=(28,28,1)),\n",
    "                            tf.keras.layers.Dense(hidden_layer_size, activation = 'relu'),\n",
    "                            tf.keras.layers.Dense(hidden_layer_size, activation = 'tanh'),\n",
    "                            tf.keras.layers.Dense(hidden_layer_size, activation = 'relu'),\n",
    "                            tf.keras.layers.Dense(output_size, activation = 'softmax'),\n",
    "                            ])\n"
   ]
  },
  {
   "cell_type": "markdown",
   "id": "a437825a",
   "metadata": {},
   "source": [
    "Choose Optimizer and Loss Function"
   ]
  },
  {
   "cell_type": "code",
   "execution_count": 49,
   "id": "c09a559a",
   "metadata": {},
   "outputs": [],
   "source": [
    "model.compile(optimizer = 'adam', loss = 'sparse_categorical_crossentropy', metrics=['accuracy'])"
   ]
  },
  {
   "cell_type": "markdown",
   "id": "09c37b25",
   "metadata": {},
   "source": [
    "Training"
   ]
  },
  {
   "cell_type": "code",
   "execution_count": 50,
   "id": "3647a3f8",
   "metadata": {},
   "outputs": [
    {
     "name": "stdout",
     "output_type": "stream",
     "text": [
      "Epoch 1/5\n",
      "540/540 - 1s - loss: 0.2536 - accuracy: 0.9256 - val_loss: 0.1156 - val_accuracy: 0.9653\n",
      "Epoch 2/5\n",
      "540/540 - 1s - loss: 0.0978 - accuracy: 0.9704 - val_loss: 0.0824 - val_accuracy: 0.9757\n",
      "Epoch 3/5\n",
      "540/540 - 1s - loss: 0.0677 - accuracy: 0.9784 - val_loss: 0.0727 - val_accuracy: 0.9787\n",
      "Epoch 4/5\n",
      "540/540 - 2s - loss: 0.0530 - accuracy: 0.9828 - val_loss: 0.0517 - val_accuracy: 0.9847\n",
      "Epoch 5/5\n",
      "540/540 - 1s - loss: 0.0404 - accuracy: 0.9867 - val_loss: 0.0496 - val_accuracy: 0.9852\n"
     ]
    },
    {
     "data": {
      "text/plain": [
       "<tensorflow.python.keras.callbacks.History at 0x27b99807d90>"
      ]
     },
     "execution_count": 50,
     "metadata": {},
     "output_type": "execute_result"
    }
   ],
   "source": [
    "NUM_EPOCHS = 5\n",
    "\n",
    "model.fit(train_data, epochs = NUM_EPOCHS, validation_data = (validation_train, validation_target), verbose =2)"
   ]
  },
  {
   "cell_type": "code",
   "execution_count": 51,
   "id": "63ccaab5",
   "metadata": {},
   "outputs": [
    {
     "name": "stdout",
     "output_type": "stream",
     "text": [
      "1/1 [==============================] - 0s 997us/step - loss: 0.0888 - accuracy: 0.9743\n"
     ]
    }
   ],
   "source": [
    "test_loss, test_accuracy = model.evaluate(test_data)"
   ]
  },
  {
   "cell_type": "code",
   "execution_count": null,
   "id": "304315f3",
   "metadata": {},
   "outputs": [],
   "source": []
  }
 ],
 "metadata": {
  "kernelspec": {
   "display_name": "Python (python3-TF2.0)",
   "language": "python",
   "name": "python3-tf2.0"
  },
  "language_info": {
   "codemirror_mode": {
    "name": "ipython",
    "version": 3
   },
   "file_extension": ".py",
   "mimetype": "text/x-python",
   "name": "python",
   "nbconvert_exporter": "python",
   "pygments_lexer": "ipython3",
   "version": "3.8.12"
  }
 },
 "nbformat": 4,
 "nbformat_minor": 5
}
